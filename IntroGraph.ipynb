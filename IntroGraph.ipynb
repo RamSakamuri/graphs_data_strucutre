{
  "nbformat": 4,
  "nbformat_minor": 0,
  "metadata": {
    "colab": {
      "name": "IntroGraph.ipynb",
      "provenance": [],
      "authorship_tag": "ABX9TyMffb3NR1UNlInpS9zmlhjt",
      "include_colab_link": true
    },
    "kernelspec": {
      "name": "python3",
      "display_name": "Python 3"
    },
    "language_info": {
      "name": "python"
    }
  },
  "cells": [
    {
      "cell_type": "markdown",
      "metadata": {
        "id": "view-in-github",
        "colab_type": "text"
      },
      "source": [
        "<a href=\"https://colab.research.google.com/github/RamSakamuri/graphs_data_strucutre/blob/main/IntroGraph.ipynb\" target=\"_parent\"><img src=\"https://colab.research.google.com/assets/colab-badge.svg\" alt=\"Open In Colab\"/></a>"
      ]
    },
    {
      "cell_type": "code",
      "execution_count": null,
      "metadata": {
        "id": "fksKPr97ZCop"
      },
      "outputs": [],
      "source": [
        "# hello"
      ]
    }
  ]
}