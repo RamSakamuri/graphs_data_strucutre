{
  "nbformat": 4,
  "nbformat_minor": 0,
  "metadata": {
    "colab": {
      "name": "IntroGraph.ipynb",
      "provenance": [],
      "collapsed_sections": [],
      "authorship_tag": "ABX9TyNT6aa7RZl4trJeDOaPEQUg",
      "include_colab_link": true
    },
    "kernelspec": {
      "name": "python3",
      "display_name": "Python 3"
    },
    "language_info": {
      "name": "python"
    }
  },
  "cells": [
    {
      "cell_type": "markdown",
      "metadata": {
        "id": "view-in-github",
        "colab_type": "text"
      },
      "source": [
        "<a href=\"https://colab.research.google.com/github/RamSakamuri/graphs_data_strucutre/blob/main/IntroGraph.ipynb\" target=\"_parent\"><img src=\"https://colab.research.google.com/assets/colab-badge.svg\" alt=\"Open In Colab\"/></a>"
      ]
    },
    {
      "cell_type": "markdown",
      "source": [
        "# Graph Data Structure\n",
        "A Graph is a non-linear data structure consisting of nodes and edges. \n",
        "The nodes are sometimes also referred to as vertices and \n",
        "the edges are lines or arcs that connect any two nodes in the graph. More formally a Graph can be defined as,\n",
        "\n"
      ],
      "metadata": {
        "id": "9GrproAdaZzF"
      }
    },
    {
      "cell_type": "markdown",
      "source": [
        "\n",
        "\n",
        "```\n",
        "# This is formatted as code\n",
        "Operations\n",
        "The basic operations provided by a graph data structure G usually include:[1]\n",
        "\n",
        "adjacent(G, x, y): tests whether there is an edge from the vertex x to the vertex y;\n",
        "neighbors(G, x): lists all vertices y such that there is an edge from the vertex x to the vertex y;\n",
        "add_vertex(G, x): adds the vertex x, if it is not there;\n",
        "remove_vertex(G, x): removes the vertex x, if it is there;\n",
        "add_edge(G, x, y): adds the edge from the vertex x to the vertex y, if it is not there;\n",
        "remove_edge(G, x, y): removes the edge from the vertex x to the vertex y, if it is there;\n",
        "get_vertex_value(G, x): returns the value associated with the vertex x;\n",
        "set_vertex_value(G, x, v): sets the value associated with the vertex x to v.\n",
        "Structures that associate values to the edges usually also provide:[1]\n",
        "\n",
        "get_edge_value(G, x, y): returns the value associated with the edge (x, y);\n",
        "set_edge_value(G, x, y, v): sets the value associated with the edge (x, y) to v.\n",
        "```\n",
        "\n"
      ],
      "metadata": {
        "id": "hnJx9MoFasUs"
      }
    },
    {
      "cell_type": "code",
      "source": [
        "class Graph:\n",
        "  def __init__(self, size):\n",
        "    self.adjacencyMatrix=[]\n",
        "\n",
        "    for i in range(size):\n",
        "      self.adjacencyMatrix.append( [0 for j in range(size)])\n",
        "\n",
        "  def add_edge(self, v1, v2):\n",
        "    if v1 == v2:\n",
        "      print(\"Both Vericies are same\")\n",
        "      return\n",
        "    self.adjacencyMatrix[v1][v2]=1\n",
        "    self.adjacencyMatrix[v2][v1]=1\n",
        "\n",
        "  def remove_edge(self, v1, v2):\n",
        "    if self.adjacencyMatrix[v1][v2]==0:\n",
        "      print(\"There are no edges between v1 and v2\")\n",
        "      return\n",
        "    self.adjacencyMatrix[v1][v2]=0\n",
        "    self.adjacencyMatrix[v2][v1]=0\n",
        "    \n",
        "  def print_adjacency_matrix(self):\n",
        "    print(\"Graph\")\n",
        "    for row in self.adjacencyMatrix:\n",
        "      print(row)\n",
        "  "
      ],
      "metadata": {
        "id": "YlHU0N-kaXE3"
      },
      "execution_count": null,
      "outputs": []
    },
    {
      "cell_type": "markdown",
      "source": [
        "# Build Graph with adjacencyMatrix"
      ],
      "metadata": {
        "id": "djvpTYJojmUB"
      }
    },
    {
      "cell_type": "code",
      "source": [
        "\n",
        "\n",
        "g = Graph(4)\n",
        "g.add_edge(0,1)\n",
        "g.add_edge(1,2)\n",
        "g.add_edge(0,2)\n",
        "g.add_edge(2,3)\n",
        "g.print_adjacency_matrix()"
      ],
      "metadata": {
        "colab": {
          "base_uri": "https://localhost:8080/"
        },
        "id": "TKxPlnaAjkMB",
        "outputId": "0e28813f-ed57-4d30-c846-e0c9ea2d61b7"
      },
      "execution_count": 13,
      "outputs": [
        {
          "output_type": "stream",
          "name": "stdout",
          "text": [
            "Graph\n",
            "[0, 1, 1, 0]\n",
            "[1, 0, 1, 0]\n",
            "[1, 1, 0, 1]\n",
            "[0, 0, 1, 0]\n"
          ]
        }
      ]
    },
    {
      "cell_type": "code",
      "source": [
        "g.remove_edge(0,1)\n",
        "g.remove_edge(1,2)\n",
        "g.print_adjacency_matrix()"
      ],
      "metadata": {
        "colab": {
          "base_uri": "https://localhost:8080/"
        },
        "id": "WG1ep0C4jvLG",
        "outputId": "c81ad8a8-84ce-4521-8d8a-38c63dc7df19"
      },
      "execution_count": 14,
      "outputs": [
        {
          "output_type": "stream",
          "name": "stdout",
          "text": [
            "Graph\n",
            "[0, 0, 1, 0]\n",
            "[0, 0, 0, 0]\n",
            "[1, 0, 0, 1]\n",
            "[0, 0, 1, 0]\n"
          ]
        }
      ]
    },
    {
      "cell_type": "code",
      "source": [
        "#{01, 12, 23, 34, 04, 14, 13}\n",
        "g = Graph(5)\n",
        "g.add_edge(0,1)\n",
        "g.add_edge(1,2)\n",
        "g.add_edge(2,3)\n",
        "g.add_edge(3,4)\n",
        "g.add_edge(0,4)\n",
        "g.add_edge(1,4)\n",
        "g.add_edge(1,3)\n",
        "\n",
        "g.print_adjacency_matrix()\n"
      ],
      "metadata": {
        "colab": {
          "base_uri": "https://localhost:8080/"
        },
        "id": "9Dr7QkDfpDKL",
        "outputId": "e32c99c0-196c-4021-d373-ed279f2ebf7f"
      },
      "execution_count": 15,
      "outputs": [
        {
          "output_type": "stream",
          "name": "stdout",
          "text": [
            "Graph\n",
            "[0, 1, 0, 0, 1]\n",
            "[1, 0, 1, 1, 1]\n",
            "[0, 1, 0, 1, 0]\n",
            "[0, 1, 1, 0, 1]\n",
            "[1, 1, 0, 1, 0]\n"
          ]
        }
      ]
    }
  ]
}