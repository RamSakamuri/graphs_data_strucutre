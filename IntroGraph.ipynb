{
  "nbformat": 4,
  "nbformat_minor": 0,
  "metadata": {
    "colab": {
      "name": "IntroGraph.ipynb",
      "provenance": [],
      "collapsed_sections": [],
      "authorship_tag": "ABX9TyMtq3qWFZHLDQL0YcpNZfxW",
      "include_colab_link": true
    },
    "kernelspec": {
      "name": "python3",
      "display_name": "Python 3"
    },
    "language_info": {
      "name": "python"
    }
  },
  "cells": [
    {
      "cell_type": "markdown",
      "metadata": {
        "id": "view-in-github",
        "colab_type": "text"
      },
      "source": [
        "<a href=\"https://colab.research.google.com/github/RamSakamuri/graphs_data_strucutre/blob/main/IntroGraph.ipynb\" target=\"_parent\"><img src=\"https://colab.research.google.com/assets/colab-badge.svg\" alt=\"Open In Colab\"/></a>"
      ]
    },
    {
      "cell_type": "markdown",
      "source": [
        "# Graph Data Structure\n",
        "A Graph is a non-linear data structure consisting of nodes and edges. \n",
        "The nodes are sometimes also referred to as vertices and \n",
        "the edges are lines or arcs that connect any two nodes in the graph. More formally a Graph can be defined as,\n",
        "\n"
      ],
      "metadata": {
        "id": "9GrproAdaZzF"
      }
    },
    {
      "cell_type": "markdown",
      "source": [
        "\n",
        "\n",
        "```\n",
        "# This is formatted as code\n",
        "Operations\n",
        "The basic operations provided by a graph data structure G usually include:[1]\n",
        "\n",
        "adjacent(G, x, y): tests whether there is an edge from the vertex x to the vertex y;\n",
        "neighbors(G, x): lists all vertices y such that there is an edge from the vertex x to the vertex y;\n",
        "add_vertex(G, x): adds the vertex x, if it is not there;\n",
        "remove_vertex(G, x): removes the vertex x, if it is there;\n",
        "add_edge(G, x, y): adds the edge from the vertex x to the vertex y, if it is not there;\n",
        "remove_edge(G, x, y): removes the edge from the vertex x to the vertex y, if it is there;\n",
        "get_vertex_value(G, x): returns the value associated with the vertex x;\n",
        "set_vertex_value(G, x, v): sets the value associated with the vertex x to v.\n",
        "Structures that associate values to the edges usually also provide:[1]\n",
        "\n",
        "get_edge_value(G, x, y): returns the value associated with the edge (x, y);\n",
        "set_edge_value(G, x, y, v): sets the value associated with the edge (x, y) to v.\n",
        "```\n",
        "\n"
      ],
      "metadata": {
        "id": "hnJx9MoFasUs"
      }
    },
    {
      "cell_type": "code",
      "source": [
        ""
      ],
      "metadata": {
        "id": "YlHU0N-kaXE3"
      },
      "execution_count": null,
      "outputs": []
    }
  ]
}