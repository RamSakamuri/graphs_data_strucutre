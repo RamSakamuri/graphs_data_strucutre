{
  "nbformat": 4,
  "nbformat_minor": 0,
  "metadata": {
    "colab": {
      "name": "DSF.ipynb",
      "provenance": [],
      "authorship_tag": "ABX9TyOzQV++t0uOjAyjzIee1CS6",
      "include_colab_link": true
    },
    "kernelspec": {
      "name": "python3",
      "display_name": "Python 3"
    },
    "language_info": {
      "name": "python"
    }
  },
  "cells": [
    {
      "cell_type": "markdown",
      "metadata": {
        "id": "view-in-github",
        "colab_type": "text"
      },
      "source": [
        "<a href=\"https://colab.research.google.com/github/RamSakamuri/graphs_data_strucutre/blob/main/DSF.ipynb\" target=\"_parent\"><img src=\"https://colab.research.google.com/assets/colab-badge.svg\" alt=\"Open In Colab\"/></a>"
      ]
    },
    {
      "cell_type": "code",
      "execution_count": 9,
      "metadata": {
        "colab": {
          "base_uri": "https://localhost:8080/"
        },
        "id": "1RdyRPhTETAu",
        "outputId": "dfbd3c8d-edb9-469d-9b29-1de88a862e90"
      },
      "outputs": [
        {
          "output_type": "stream",
          "name": "stdout",
          "text": [
            "6\n"
          ]
        }
      ],
      "source": [
        "class Node:\n",
        "  def __init__(self, data):\n",
        "    self.data = data\n",
        "    self.left = None\n",
        "    self.right = None\n",
        "\n",
        "class BST:\n",
        "\n",
        "  def buildBst(self, root, ele):\n",
        "    if root == None: return Node(ele)\n",
        "    if ele< root.data:\n",
        "      root.left = self.buildBst(root.left, ele)\n",
        "    else:\n",
        "      root.right = self.buildBst(root.right, ele)    \n",
        "    return root\n",
        "  \n",
        "  def countNode(self, root):\n",
        "    if root is None: return 0    \n",
        "    return 1+ self.countNode(root.left) + self.countNode(root.right)\n",
        "\n",
        "  def leafNode(self, root):\n",
        "    if root is None: return 0    \n",
        "\n",
        "    if root.left is None and root.right is None: return 1\n",
        "    else:\n",
        "      return self.leafNode(root.left) + self.leafNode(root.right)\n",
        "\n",
        "      return None\n",
        "\n",
        "  def maxDepth(self, root):\n",
        "    if root is None: return 0\n",
        "    else:\n",
        "      ldepth = self.maxDepth(root.left)\n",
        "      rdepth = self.maxDepth(root.right)\n",
        "\n",
        "      return max(ldepth, rdepth)+1\n",
        "\n",
        "root = None\n",
        "b = BST()\n",
        "for ele in [2,1,33,0,25,40,11,34,7,12,36,13]:\n",
        "  root = b.buildBst(root, ele)\n",
        "\n",
        "a = b.countNode(root)\n",
        "c = b.leafNode(root)\n",
        "print(b.maxDepth(root))"
      ]
    },
    {
      "cell_type": "code",
      "source": [
        "class Graph:\n",
        "\n",
        "  def __init__(self, size):\n",
        "    self.adjMatrix = []\n",
        "    for i in range(size):\n",
        "      self.adjMatrix.append([0 for j in range(size)])\n",
        "  \n",
        "  def add_edge(self, v1, v2):\n",
        "    if v1 == v2:\n",
        "      print(\"Both are same\")\n",
        "      return\n",
        "    self.adjMatrix[v1][v2]=1\n",
        "    self.adjMatrix[v2][v1]=1\n",
        "\n",
        "  def remove_edge(self, v1, v2):\n",
        "    if v1 == v2:\n",
        "      print(\"Both are same\")\n",
        "      return\n",
        "    self.adjMatrix[v1][v2]=0\n",
        "    self.adjMatrix[v2][v1]=0   \n",
        "\n",
        "  def printMatrix(self):\n",
        "    for row in self.adjMatrix:\n",
        "      print(row)\n",
        "\n",
        "g = Graph(4)\n",
        "g.add_edge(0,1)\n",
        "g.add_edge(1,2)\n",
        "g.add_edge(0,2)\n",
        "g.add_edge(2,3)\n",
        "\n",
        "print(g.printMatrix())\n",
        "\n",
        "\n"
      ],
      "metadata": {
        "colab": {
          "base_uri": "https://localhost:8080/"
        },
        "id": "7tEnUEVTi69t",
        "outputId": "e3b6134b-fcef-4b8a-f9f3-bca090d0a23d"
      },
      "execution_count": 17,
      "outputs": [
        {
          "output_type": "stream",
          "name": "stdout",
          "text": [
            "[0, 1, 1, 0]\n",
            "[1, 0, 1, 0]\n",
            "[1, 1, 0, 1]\n",
            "[0, 0, 1, 0]\n",
            "None\n"
          ]
        }
      ]
    },
    {
      "cell_type": "code",
      "source": [
        "from collections import defaultdict\n",
        "  \n",
        "      \n",
        "# Defining the dict and passing \n",
        "# lambda as default_factory argument\n",
        "d = defaultdict(lambda: \"Not Present\")\n",
        "d[\"a\"] = 1\n",
        "d[\"b\"] = 2\n",
        "  \n",
        "print(d[\"a\"])\n",
        "print(d[\"b\"])\n",
        "print(d[\"c\"])"
      ],
      "metadata": {
        "colab": {
          "base_uri": "https://localhost:8080/"
        },
        "id": "1DI6OtyIPptI",
        "outputId": "63991bde-189b-4afb-85c6-c07e8db52ad4"
      },
      "execution_count": 18,
      "outputs": [
        {
          "output_type": "stream",
          "name": "stdout",
          "text": [
            "1\n",
            "2\n",
            "Not Present\n"
          ]
        }
      ]
    },
    {
      "cell_type": "code",
      "source": [
        ""
      ],
      "metadata": {
        "id": "kJ-HJ-cLgf2C"
      },
      "execution_count": null,
      "outputs": []
    }
  ]
}