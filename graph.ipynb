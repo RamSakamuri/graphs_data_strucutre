{
  "nbformat": 4,
  "nbformat_minor": 0,
  "metadata": {
    "colab": {
      "name": "graph.ipynb",
      "provenance": [],
      "authorship_tag": "ABX9TyNpJwGhWSuTFlt6uiVTWvVP",
      "include_colab_link": true
    },
    "kernelspec": {
      "name": "python3",
      "display_name": "Python 3"
    },
    "language_info": {
      "name": "python"
    }
  },
  "cells": [
    {
      "cell_type": "markdown",
      "metadata": {
        "id": "view-in-github",
        "colab_type": "text"
      },
      "source": [
        "<a href=\"https://colab.research.google.com/github/RamSakamuri/graphs_data_strucutre/blob/main/graph.ipynb\" target=\"_parent\"><img src=\"https://colab.research.google.com/assets/colab-badge.svg\" alt=\"Open In Colab\"/></a>"
      ]
    },
    {
      "cell_type": "code",
      "execution_count": 2,
      "metadata": {
        "colab": {
          "base_uri": "https://localhost:8080/"
        },
        "id": "d1jrG301Xgeh",
        "outputId": "5dc101ff-2dee-42d9-8f9f-dbd20acdb678"
      },
      "outputs": [
        {
          "output_type": "stream",
          "name": "stdout",
          "text": [
            "Vertex 2\n",
            "Vertex 1\n",
            "Vertex 3\n",
            "Vertex 0\n",
            "Vertex 4\n",
            "Vertex 5\n",
            "Vertex 7\n",
            "Vertex 6\n"
          ]
        }
      ],
      "source": [
        "class BFS:\n",
        "\n",
        "\tdef __init__(self, n):\n",
        "\t\tself.dist = [0]*n\n",
        "\t\tself.pred = [-1]*n\n",
        "\t\tself.colors = ['white']*n\n",
        "\t\tself.graph = {0:[1], 1:[0, 2], 2: [1, 3], \n",
        "\t\t3: [2, 4, 5], 4: [3, 5, 7], 5: [3, 4, 6, 7], 6: [5, 7], 7:[4, 5, 6]}\n",
        "\n",
        "\tdef bfs(self, source):\n",
        "\t\tqueue = []\n",
        "\t\tqueue.append(source)\n",
        "\t\tself.dist[source] = 0\n",
        "\t\tself.colors[source] = 'Gray'\n",
        "\t\twhile queue:\n",
        "\t\t\tcurrent = queue.pop(0)\n",
        "\t\t\tprint(\"Vertex {}\".format(current))\n",
        "\t\t\tfor i in range(len(self.graph[current])):\n",
        "\t\t\t\tif self.colors[self.graph[current][i]] == \"white\":\n",
        "\t\t\t\t\tself.colors[self.graph[current][i]] = 'Gray'\n",
        "\n",
        "\t\t\t\t\tself.dist[self.graph[current][i]] = self.dist[current] + 1\n",
        "\t\t\t\t\tself.pred[self.graph[current][i]] = current\n",
        "\t\t\t\t\tqueue.append(self.graph[current][i])\n",
        "\t\t\tself.colors[current] = 'Black'\n",
        "\n",
        "\n",
        "b = BFS(8)\n",
        "b.bfs(2)\n",
        "\n"
      ]
    }
  ]
}